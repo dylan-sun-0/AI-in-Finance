{
  "cells": [
    {
      "cell_type": "markdown",
      "metadata": {
        "id": "GY6HBpcEsNf7"
      },
      "source": [
        "# 0. PCA ANALYSIS OF DOW JONES STOCKS"
      ]
    },
    {
      "cell_type": "markdown",
      "metadata": {
        "id": "NweXwIKUsNf9"
      },
      "source": [
        "This notebook is based on by Nathan Thomas's notebook published in:\n",
        "https://towardsdatascience.com/applying-pca-to-the-yield-curve-4d2023e555b3\n",
        "which we have commented and extended."
      ]
    },
    {
      "cell_type": "markdown",
      "metadata": {
        "id": "vX_uZ7zgsNf9"
      },
      "source": [
        "# 1. Import and clean data"
      ]
    },
    {
      "cell_type": "markdown",
      "metadata": {
        "id": "wlGweMnysNf-"
      },
      "source": [
        "First we import the stock prices."
      ]
    },
    {
      "cell_type": "code",
      "source": [
        "!pip install openpyxl"
      ],
      "metadata": {
        "colab": {
          "base_uri": "https://localhost:8080/"
        },
        "id": "YlRmtlQ_sWMk",
        "outputId": "fea798fb-5df8-4dc6-f3fa-c43de7562e23"
      },
      "execution_count": 1,
      "outputs": [
        {
          "output_type": "stream",
          "name": "stdout",
          "text": [
            "Requirement already satisfied: openpyxl in /usr/local/lib/python3.10/dist-packages (3.1.5)\n",
            "Requirement already satisfied: et-xmlfile in /usr/local/lib/python3.10/dist-packages (from openpyxl) (2.0.0)\n"
          ]
        }
      ]
    },
    {
      "cell_type": "code",
      "execution_count": 2,
      "metadata": {
        "id": "gykWkBabsNf-"
      },
      "outputs": [],
      "source": [
        "%matplotlib inline\n",
        "import matplotlib.pyplot as plt\n",
        "import pandas as pd\n",
        "import numpy as np\n",
        "from sklearn.preprocessing import StandardScaler\n",
        "\n",
        "# Import data from excel\n",
        "df = pd.read_csv(\"indu_dly.csv\", index_col=\"Date\")\n",
        "df = df.pct_change(1).dropna(how=\"any\")"
      ]
    },
    {
      "cell_type": "markdown",
      "metadata": {
        "id": "tp19d9avsNf_"
      },
      "source": [
        "## 2. Compute the eigenvalues & eigenvectors"
      ]
    },
    {
      "cell_type": "code",
      "execution_count": 5,
      "metadata": {
        "id": "6Fu2lf0isNf_"
      },
      "outputs": [],
      "source": [
        "from sklearn.decomposition import PCA"
      ]
    },
    {
      "cell_type": "code",
      "source": [
        "pca = PCA()\n",
        "pca.fit(df)  # Do the fitting\n",
        "eigenValues = pca.explained_variance_  # Horizontal eigenvalues ordered from left to right\n",
        "eigenVectors = pca.components_         # Horizontal eigenvectors ordered from top to bottom"
      ],
      "metadata": {
        "id": "cSG3I2Uqtrb_"
      },
      "execution_count": 8,
      "outputs": []
    },
    {
      "cell_type": "markdown",
      "metadata": {
        "id": "ZXlgjEIjsNf_"
      },
      "source": [
        "## 3. PCA projections"
      ]
    },
    {
      "cell_type": "markdown",
      "metadata": {
        "id": "6O1HNr9lsNgA"
      },
      "source": [
        "We now calculate the PCA projections (or\n",
        "what we have been calling the tranformed \"Z\" features of  4.PCAInMoreDepth.pptx slides 25 to 32).\n",
        "These are \"latent\" or hidden features (as per slide 37) that\n",
        "drive the movement of the rates as a whole.\n",
        "pc1 is the most important latent feature, the one the captures the most variance."
      ]
    },
    {
      "cell_type": "code",
      "execution_count": 9,
      "metadata": {
        "id": "_ziw0ylfsNgA"
      },
      "outputs": [],
      "source": [
        "principal_component_projections = pca.transform(df)  #####\n",
        "pc1_proj = principal_component_projections[:, 0] #####"
      ]
    },
    {
      "cell_type": "markdown",
      "metadata": {
        "id": "R0Msghj9sNgA"
      },
      "source": [
        "## 4. Comparison with Dow Jones Index"
      ]
    },
    {
      "cell_type": "code",
      "execution_count": 10,
      "metadata": {
        "id": "YrcCoZcjsNgA"
      },
      "outputs": [],
      "source": [
        "df_indu_index = pd.read_csv(\"indu_index_dly.csv\", index_col=\"Date\")\n",
        "df_indu_index_ret = df_indu_index.pct_change(1).dropna(how=\"any\")\n",
        "indu_index = df_indu_index_ret.squeeze()"
      ]
    },
    {
      "cell_type": "markdown",
      "metadata": {
        "id": "4aYXfdhVsNgA"
      },
      "source": [
        "The correlation between up down movements of the pc1 projection and those of the Dow Jones Index is very high:"
      ]
    },
    {
      "cell_type": "code",
      "source": [
        "np.corrcoef(pc1_proj, indu_index)"
      ],
      "metadata": {
        "colab": {
          "base_uri": "https://localhost:8080/"
        },
        "id": "ltjEw0S6uwn9",
        "outputId": "a31d9602-0f14-4d42-8cc9-50ad56cd2ee8"
      },
      "execution_count": 12,
      "outputs": [
        {
          "output_type": "execute_result",
          "data": {
            "text/plain": [
              "array([[1.        , 0.98062392],\n",
              "       [0.98062392, 1.        ]])"
            ]
          },
          "metadata": {},
          "execution_count": 12
        }
      ]
    },
    {
      "cell_type": "markdown",
      "metadata": {
        "id": "sVfnHCqLsNgA"
      },
      "source": [
        "## 5. Variance"
      ]
    },
    {
      "cell_type": "markdown",
      "metadata": {
        "id": "4XucRU10sNgA"
      },
      "source": [
        "The percent variance (explained) of first principal component (first eigenvalue)"
      ]
    },
    {
      "cell_type": "code",
      "source": [
        "explained_variance_pc1 = pca.explained_variance_ratio_[0] * 100"
      ],
      "metadata": {
        "id": "4xcLoiIHvA4b"
      },
      "execution_count": 13,
      "outputs": []
    },
    {
      "cell_type": "code",
      "execution_count": 15,
      "metadata": {
        "colab": {
          "base_uri": "https://localhost:8080/"
        },
        "id": "P4eMQF3CsNgB",
        "outputId": "0b45b8cf-4612-4303-857a-1e9d107e505f"
      },
      "outputs": [
        {
          "output_type": "execute_result",
          "data": {
            "text/plain": [
              "53.3612817168958"
            ]
          },
          "metadata": {},
          "execution_count": 15
        }
      ],
      "source": [
        "##### some ratio*100 #% variance of first principal component (first eigenvalue)\n",
        "explained_variance_pc1"
      ]
    },
    {
      "cell_type": "markdown",
      "metadata": {
        "id": "vWxK9XUwsNgB"
      },
      "source": [
        "The percent variance (explained) of first principal component projection"
      ]
    },
    {
      "cell_type": "code",
      "source": [
        "projections_covariance = np.cov(principal_component_projections.T)\n",
        "\n",
        "variance_pc1_projection = projections_covariance[0, 0]\n",
        "total_variance = np.sum(np.var(df.values, axis=0, ddof=1))\n",
        "\n",
        "variance_pc1_percent = (variance_pc1_projection / total_variance) * 100"
      ],
      "metadata": {
        "id": "oBWKdLJNvHuG"
      },
      "execution_count": 17,
      "outputs": []
    },
    {
      "cell_type": "code",
      "execution_count": 18,
      "metadata": {
        "colab": {
          "base_uri": "https://localhost:8080/"
        },
        "id": "-K1DW_CssNgB",
        "outputId": "b73b2073-0ee5-4924-9419-1234d6c9563c"
      },
      "outputs": [
        {
          "output_type": "execute_result",
          "data": {
            "text/plain": [
              "53.36128171689584"
            ]
          },
          "metadata": {},
          "execution_count": 18
        }
      ],
      "source": [
        "##### another ratio*100 #variance of first principal component projection\n",
        "variance_pc1_percent"
      ]
    },
    {
      "cell_type": "markdown",
      "metadata": {
        "id": "pTBujyTbsNgB"
      },
      "source": [
        "THEY ARE THE SAME"
      ]
    },
    {
      "cell_type": "markdown",
      "metadata": {
        "id": "BM20HunIsNgB"
      },
      "source": [
        "## 6. Betas"
      ]
    },
    {
      "cell_type": "markdown",
      "metadata": {
        "id": "-irpS0NfsNgB"
      },
      "source": [
        "Calculate the betas by regression:"
      ]
    },
    {
      "cell_type": "code",
      "execution_count": 19,
      "metadata": {
        "id": "rxRO2TJ0sNgB"
      },
      "outputs": [],
      "source": [
        "from sklearn.linear_model import LinearRegression\n",
        "betas_by_regression = []\n",
        "for column in df.columns.values.tolist():\n",
        "    reg = LinearRegression().fit(pc1_proj.reshape(-1, 1), df[column])\n",
        "    #reg = LinearRegression().fit(df_indu_index_ret.iloc[:,0].values.reshape(-1,1), df[column])\n",
        "    betas_by_regression.append(reg.coef_)"
      ]
    },
    {
      "cell_type": "code",
      "execution_count": null,
      "metadata": {
        "id": "rsPOCpnxsNgB",
        "outputId": "1613a7a5-783b-4002-ee87-d7e4febb66eb"
      },
      "outputs": [
        {
          "data": {
            "text/html": [
              "<div>\n",
              "<style scoped>\n",
              "    .dataframe tbody tr th:only-of-type {\n",
              "        vertical-align: middle;\n",
              "    }\n",
              "\n",
              "    .dataframe tbody tr th {\n",
              "        vertical-align: top;\n",
              "    }\n",
              "\n",
              "    .dataframe thead th {\n",
              "        text-align: right;\n",
              "    }\n",
              "</style>\n",
              "<table border=\"1\" class=\"dataframe\">\n",
              "  <thead>\n",
              "    <tr style=\"text-align: right;\">\n",
              "      <th></th>\n",
              "      <th>Betas</th>\n",
              "    </tr>\n",
              "  </thead>\n",
              "  <tbody>\n",
              "    <tr>\n",
              "      <th>CSCO</th>\n",
              "      <td>0.203719</td>\n",
              "    </tr>\n",
              "    <tr>\n",
              "      <th>DIS</th>\n",
              "      <td>0.206642</td>\n",
              "    </tr>\n",
              "    <tr>\n",
              "      <th>XOM</th>\n",
              "      <td>0.173782</td>\n",
              "    </tr>\n",
              "    <tr>\n",
              "      <th>BA</th>\n",
              "      <td>0.195282</td>\n",
              "    </tr>\n",
              "    <tr>\n",
              "      <th>UNH</th>\n",
              "      <td>0.195802</td>\n",
              "    </tr>\n",
              "    <tr>\n",
              "      <th>MMM</th>\n",
              "      <td>0.163117</td>\n",
              "    </tr>\n",
              "    <tr>\n",
              "      <th>HD</th>\n",
              "      <td>0.186500</td>\n",
              "    </tr>\n",
              "    <tr>\n",
              "      <th>VZ</th>\n",
              "      <td>0.132984</td>\n",
              "    </tr>\n",
              "    <tr>\n",
              "      <th>TRV</th>\n",
              "      <td>0.205211</td>\n",
              "    </tr>\n",
              "    <tr>\n",
              "      <th>JNJ</th>\n",
              "      <td>0.106099</td>\n",
              "    </tr>\n",
              "    <tr>\n",
              "      <th>IBM</th>\n",
              "      <td>0.146526</td>\n",
              "    </tr>\n",
              "    <tr>\n",
              "      <th>PG</th>\n",
              "      <td>0.108876</td>\n",
              "    </tr>\n",
              "    <tr>\n",
              "      <th>NKE</th>\n",
              "      <td>0.175940</td>\n",
              "    </tr>\n",
              "    <tr>\n",
              "      <th>WBA</th>\n",
              "      <td>0.150845</td>\n",
              "    </tr>\n",
              "    <tr>\n",
              "      <th>JPM</th>\n",
              "      <td>0.326605</td>\n",
              "    </tr>\n",
              "    <tr>\n",
              "      <th>MRK</th>\n",
              "      <td>0.150400</td>\n",
              "    </tr>\n",
              "    <tr>\n",
              "      <th>CVX</th>\n",
              "      <td>0.196664</td>\n",
              "    </tr>\n",
              "    <tr>\n",
              "      <th>KO</th>\n",
              "      <td>0.109202</td>\n",
              "    </tr>\n",
              "    <tr>\n",
              "      <th>PFE</th>\n",
              "      <td>0.145752</td>\n",
              "    </tr>\n",
              "    <tr>\n",
              "      <th>WMT</th>\n",
              "      <td>0.097874</td>\n",
              "    </tr>\n",
              "    <tr>\n",
              "      <th>GS</th>\n",
              "      <td>0.287411</td>\n",
              "    </tr>\n",
              "    <tr>\n",
              "      <th>AAPL</th>\n",
              "      <td>0.181237</td>\n",
              "    </tr>\n",
              "    <tr>\n",
              "      <th>UTX</th>\n",
              "      <td>0.185549</td>\n",
              "    </tr>\n",
              "    <tr>\n",
              "      <th>MCD</th>\n",
              "      <td>0.109779</td>\n",
              "    </tr>\n",
              "    <tr>\n",
              "      <th>AXP</th>\n",
              "      <td>0.297262</td>\n",
              "    </tr>\n",
              "    <tr>\n",
              "      <th>MSFT</th>\n",
              "      <td>0.185523</td>\n",
              "    </tr>\n",
              "    <tr>\n",
              "      <th>INTC</th>\n",
              "      <td>0.198152</td>\n",
              "    </tr>\n",
              "    <tr>\n",
              "      <th>CAT</th>\n",
              "      <td>0.234421</td>\n",
              "    </tr>\n",
              "  </tbody>\n",
              "</table>\n",
              "</div>"
            ],
            "text/plain": [
              "         Betas\n",
              "CSCO  0.203719\n",
              "DIS   0.206642\n",
              "XOM   0.173782\n",
              "BA    0.195282\n",
              "UNH   0.195802\n",
              "MMM   0.163117\n",
              "HD    0.186500\n",
              "VZ    0.132984\n",
              "TRV   0.205211\n",
              "JNJ   0.106099\n",
              "IBM   0.146526\n",
              "PG    0.108876\n",
              "NKE   0.175940\n",
              "WBA   0.150845\n",
              "JPM   0.326605\n",
              "MRK   0.150400\n",
              "CVX   0.196664\n",
              "KO    0.109202\n",
              "PFE   0.145752\n",
              "WMT   0.097874\n",
              "GS    0.287411\n",
              "AAPL  0.181237\n",
              "UTX   0.185549\n",
              "MCD   0.109779\n",
              "AXP   0.297262\n",
              "MSFT  0.185523\n",
              "INTC  0.198152\n",
              "CAT   0.234421"
            ]
          },
          "execution_count": 9,
          "metadata": {},
          "output_type": "execute_result"
        }
      ],
      "source": [
        "betas_by_regression = pd.DataFrame(betas_by_regression, columns=[\"Betas\"], index=df.columns)\n",
        "betas_by_regression.head(50)"
      ]
    },
    {
      "cell_type": "markdown",
      "metadata": {
        "id": "ySFLRLdAsNgB"
      },
      "source": [
        "Calculate the betas by eigenvector pc1:"
      ]
    },
    {
      "cell_type": "code",
      "execution_count": 22,
      "metadata": {
        "colab": {
          "base_uri": "https://localhost:8080/",
          "height": 927
        },
        "id": "QLrrGpL7sNgB",
        "outputId": "f8cc468b-127c-41b0-c604-647cb3647586"
      },
      "outputs": [
        {
          "output_type": "execute_result",
          "data": {
            "text/plain": [
              "         Betas\n",
              "CSCO  0.203719\n",
              "DIS   0.206642\n",
              "XOM   0.173782\n",
              "BA    0.195282\n",
              "UNH   0.195802\n",
              "MMM   0.163117\n",
              "HD    0.186500\n",
              "VZ    0.132984\n",
              "TRV   0.205211\n",
              "JNJ   0.106099\n",
              "IBM   0.146526\n",
              "PG    0.108876\n",
              "NKE   0.175940\n",
              "WBA   0.150845\n",
              "JPM   0.326605\n",
              "MRK   0.150400\n",
              "CVX   0.196664\n",
              "KO    0.109202\n",
              "PFE   0.145752\n",
              "WMT   0.097874\n",
              "GS    0.287411\n",
              "AAPL  0.181237\n",
              "UTX   0.185549\n",
              "MCD   0.109779\n",
              "AXP   0.297262\n",
              "MSFT  0.185523\n",
              "INTC  0.198152\n",
              "CAT   0.234421"
            ],
            "text/html": [
              "\n",
              "  <div id=\"df-ecb42334-8e22-4e4d-8322-c680e9097249\" class=\"colab-df-container\">\n",
              "    <div>\n",
              "<style scoped>\n",
              "    .dataframe tbody tr th:only-of-type {\n",
              "        vertical-align: middle;\n",
              "    }\n",
              "\n",
              "    .dataframe tbody tr th {\n",
              "        vertical-align: top;\n",
              "    }\n",
              "\n",
              "    .dataframe thead th {\n",
              "        text-align: right;\n",
              "    }\n",
              "</style>\n",
              "<table border=\"1\" class=\"dataframe\">\n",
              "  <thead>\n",
              "    <tr style=\"text-align: right;\">\n",
              "      <th></th>\n",
              "      <th>Betas</th>\n",
              "    </tr>\n",
              "  </thead>\n",
              "  <tbody>\n",
              "    <tr>\n",
              "      <th>CSCO</th>\n",
              "      <td>0.203719</td>\n",
              "    </tr>\n",
              "    <tr>\n",
              "      <th>DIS</th>\n",
              "      <td>0.206642</td>\n",
              "    </tr>\n",
              "    <tr>\n",
              "      <th>XOM</th>\n",
              "      <td>0.173782</td>\n",
              "    </tr>\n",
              "    <tr>\n",
              "      <th>BA</th>\n",
              "      <td>0.195282</td>\n",
              "    </tr>\n",
              "    <tr>\n",
              "      <th>UNH</th>\n",
              "      <td>0.195802</td>\n",
              "    </tr>\n",
              "    <tr>\n",
              "      <th>MMM</th>\n",
              "      <td>0.163117</td>\n",
              "    </tr>\n",
              "    <tr>\n",
              "      <th>HD</th>\n",
              "      <td>0.186500</td>\n",
              "    </tr>\n",
              "    <tr>\n",
              "      <th>VZ</th>\n",
              "      <td>0.132984</td>\n",
              "    </tr>\n",
              "    <tr>\n",
              "      <th>TRV</th>\n",
              "      <td>0.205211</td>\n",
              "    </tr>\n",
              "    <tr>\n",
              "      <th>JNJ</th>\n",
              "      <td>0.106099</td>\n",
              "    </tr>\n",
              "    <tr>\n",
              "      <th>IBM</th>\n",
              "      <td>0.146526</td>\n",
              "    </tr>\n",
              "    <tr>\n",
              "      <th>PG</th>\n",
              "      <td>0.108876</td>\n",
              "    </tr>\n",
              "    <tr>\n",
              "      <th>NKE</th>\n",
              "      <td>0.175940</td>\n",
              "    </tr>\n",
              "    <tr>\n",
              "      <th>WBA</th>\n",
              "      <td>0.150845</td>\n",
              "    </tr>\n",
              "    <tr>\n",
              "      <th>JPM</th>\n",
              "      <td>0.326605</td>\n",
              "    </tr>\n",
              "    <tr>\n",
              "      <th>MRK</th>\n",
              "      <td>0.150400</td>\n",
              "    </tr>\n",
              "    <tr>\n",
              "      <th>CVX</th>\n",
              "      <td>0.196664</td>\n",
              "    </tr>\n",
              "    <tr>\n",
              "      <th>KO</th>\n",
              "      <td>0.109202</td>\n",
              "    </tr>\n",
              "    <tr>\n",
              "      <th>PFE</th>\n",
              "      <td>0.145752</td>\n",
              "    </tr>\n",
              "    <tr>\n",
              "      <th>WMT</th>\n",
              "      <td>0.097874</td>\n",
              "    </tr>\n",
              "    <tr>\n",
              "      <th>GS</th>\n",
              "      <td>0.287411</td>\n",
              "    </tr>\n",
              "    <tr>\n",
              "      <th>AAPL</th>\n",
              "      <td>0.181237</td>\n",
              "    </tr>\n",
              "    <tr>\n",
              "      <th>UTX</th>\n",
              "      <td>0.185549</td>\n",
              "    </tr>\n",
              "    <tr>\n",
              "      <th>MCD</th>\n",
              "      <td>0.109779</td>\n",
              "    </tr>\n",
              "    <tr>\n",
              "      <th>AXP</th>\n",
              "      <td>0.297262</td>\n",
              "    </tr>\n",
              "    <tr>\n",
              "      <th>MSFT</th>\n",
              "      <td>0.185523</td>\n",
              "    </tr>\n",
              "    <tr>\n",
              "      <th>INTC</th>\n",
              "      <td>0.198152</td>\n",
              "    </tr>\n",
              "    <tr>\n",
              "      <th>CAT</th>\n",
              "      <td>0.234421</td>\n",
              "    </tr>\n",
              "  </tbody>\n",
              "</table>\n",
              "</div>\n",
              "    <div class=\"colab-df-buttons\">\n",
              "\n",
              "  <div class=\"colab-df-container\">\n",
              "    <button class=\"colab-df-convert\" onclick=\"convertToInteractive('df-ecb42334-8e22-4e4d-8322-c680e9097249')\"\n",
              "            title=\"Convert this dataframe to an interactive table.\"\n",
              "            style=\"display:none;\">\n",
              "\n",
              "  <svg xmlns=\"http://www.w3.org/2000/svg\" height=\"24px\" viewBox=\"0 -960 960 960\">\n",
              "    <path d=\"M120-120v-720h720v720H120Zm60-500h600v-160H180v160Zm220 220h160v-160H400v160Zm0 220h160v-160H400v160ZM180-400h160v-160H180v160Zm440 0h160v-160H620v160ZM180-180h160v-160H180v160Zm440 0h160v-160H620v160Z\"/>\n",
              "  </svg>\n",
              "    </button>\n",
              "\n",
              "  <style>\n",
              "    .colab-df-container {\n",
              "      display:flex;\n",
              "      gap: 12px;\n",
              "    }\n",
              "\n",
              "    .colab-df-convert {\n",
              "      background-color: #E8F0FE;\n",
              "      border: none;\n",
              "      border-radius: 50%;\n",
              "      cursor: pointer;\n",
              "      display: none;\n",
              "      fill: #1967D2;\n",
              "      height: 32px;\n",
              "      padding: 0 0 0 0;\n",
              "      width: 32px;\n",
              "    }\n",
              "\n",
              "    .colab-df-convert:hover {\n",
              "      background-color: #E2EBFA;\n",
              "      box-shadow: 0px 1px 2px rgba(60, 64, 67, 0.3), 0px 1px 3px 1px rgba(60, 64, 67, 0.15);\n",
              "      fill: #174EA6;\n",
              "    }\n",
              "\n",
              "    .colab-df-buttons div {\n",
              "      margin-bottom: 4px;\n",
              "    }\n",
              "\n",
              "    [theme=dark] .colab-df-convert {\n",
              "      background-color: #3B4455;\n",
              "      fill: #D2E3FC;\n",
              "    }\n",
              "\n",
              "    [theme=dark] .colab-df-convert:hover {\n",
              "      background-color: #434B5C;\n",
              "      box-shadow: 0px 1px 3px 1px rgba(0, 0, 0, 0.15);\n",
              "      filter: drop-shadow(0px 1px 2px rgba(0, 0, 0, 0.3));\n",
              "      fill: #FFFFFF;\n",
              "    }\n",
              "  </style>\n",
              "\n",
              "    <script>\n",
              "      const buttonEl =\n",
              "        document.querySelector('#df-ecb42334-8e22-4e4d-8322-c680e9097249 button.colab-df-convert');\n",
              "      buttonEl.style.display =\n",
              "        google.colab.kernel.accessAllowed ? 'block' : 'none';\n",
              "\n",
              "      async function convertToInteractive(key) {\n",
              "        const element = document.querySelector('#df-ecb42334-8e22-4e4d-8322-c680e9097249');\n",
              "        const dataTable =\n",
              "          await google.colab.kernel.invokeFunction('convertToInteractive',\n",
              "                                                    [key], {});\n",
              "        if (!dataTable) return;\n",
              "\n",
              "        const docLinkHtml = 'Like what you see? Visit the ' +\n",
              "          '<a target=\"_blank\" href=https://colab.research.google.com/notebooks/data_table.ipynb>data table notebook</a>'\n",
              "          + ' to learn more about interactive tables.';\n",
              "        element.innerHTML = '';\n",
              "        dataTable['output_type'] = 'display_data';\n",
              "        await google.colab.output.renderOutput(dataTable, element);\n",
              "        const docLink = document.createElement('div');\n",
              "        docLink.innerHTML = docLinkHtml;\n",
              "        element.appendChild(docLink);\n",
              "      }\n",
              "    </script>\n",
              "  </div>\n",
              "\n",
              "\n",
              "<div id=\"df-527ffe57-971f-4faf-bc3d-2ddd5755a977\">\n",
              "  <button class=\"colab-df-quickchart\" onclick=\"quickchart('df-527ffe57-971f-4faf-bc3d-2ddd5755a977')\"\n",
              "            title=\"Suggest charts\"\n",
              "            style=\"display:none;\">\n",
              "\n",
              "<svg xmlns=\"http://www.w3.org/2000/svg\" height=\"24px\"viewBox=\"0 0 24 24\"\n",
              "     width=\"24px\">\n",
              "    <g>\n",
              "        <path d=\"M19 3H5c-1.1 0-2 .9-2 2v14c0 1.1.9 2 2 2h14c1.1 0 2-.9 2-2V5c0-1.1-.9-2-2-2zM9 17H7v-7h2v7zm4 0h-2V7h2v10zm4 0h-2v-4h2v4z\"/>\n",
              "    </g>\n",
              "</svg>\n",
              "  </button>\n",
              "\n",
              "<style>\n",
              "  .colab-df-quickchart {\n",
              "      --bg-color: #E8F0FE;\n",
              "      --fill-color: #1967D2;\n",
              "      --hover-bg-color: #E2EBFA;\n",
              "      --hover-fill-color: #174EA6;\n",
              "      --disabled-fill-color: #AAA;\n",
              "      --disabled-bg-color: #DDD;\n",
              "  }\n",
              "\n",
              "  [theme=dark] .colab-df-quickchart {\n",
              "      --bg-color: #3B4455;\n",
              "      --fill-color: #D2E3FC;\n",
              "      --hover-bg-color: #434B5C;\n",
              "      --hover-fill-color: #FFFFFF;\n",
              "      --disabled-bg-color: #3B4455;\n",
              "      --disabled-fill-color: #666;\n",
              "  }\n",
              "\n",
              "  .colab-df-quickchart {\n",
              "    background-color: var(--bg-color);\n",
              "    border: none;\n",
              "    border-radius: 50%;\n",
              "    cursor: pointer;\n",
              "    display: none;\n",
              "    fill: var(--fill-color);\n",
              "    height: 32px;\n",
              "    padding: 0;\n",
              "    width: 32px;\n",
              "  }\n",
              "\n",
              "  .colab-df-quickchart:hover {\n",
              "    background-color: var(--hover-bg-color);\n",
              "    box-shadow: 0 1px 2px rgba(60, 64, 67, 0.3), 0 1px 3px 1px rgba(60, 64, 67, 0.15);\n",
              "    fill: var(--button-hover-fill-color);\n",
              "  }\n",
              "\n",
              "  .colab-df-quickchart-complete:disabled,\n",
              "  .colab-df-quickchart-complete:disabled:hover {\n",
              "    background-color: var(--disabled-bg-color);\n",
              "    fill: var(--disabled-fill-color);\n",
              "    box-shadow: none;\n",
              "  }\n",
              "\n",
              "  .colab-df-spinner {\n",
              "    border: 2px solid var(--fill-color);\n",
              "    border-color: transparent;\n",
              "    border-bottom-color: var(--fill-color);\n",
              "    animation:\n",
              "      spin 1s steps(1) infinite;\n",
              "  }\n",
              "\n",
              "  @keyframes spin {\n",
              "    0% {\n",
              "      border-color: transparent;\n",
              "      border-bottom-color: var(--fill-color);\n",
              "      border-left-color: var(--fill-color);\n",
              "    }\n",
              "    20% {\n",
              "      border-color: transparent;\n",
              "      border-left-color: var(--fill-color);\n",
              "      border-top-color: var(--fill-color);\n",
              "    }\n",
              "    30% {\n",
              "      border-color: transparent;\n",
              "      border-left-color: var(--fill-color);\n",
              "      border-top-color: var(--fill-color);\n",
              "      border-right-color: var(--fill-color);\n",
              "    }\n",
              "    40% {\n",
              "      border-color: transparent;\n",
              "      border-right-color: var(--fill-color);\n",
              "      border-top-color: var(--fill-color);\n",
              "    }\n",
              "    60% {\n",
              "      border-color: transparent;\n",
              "      border-right-color: var(--fill-color);\n",
              "    }\n",
              "    80% {\n",
              "      border-color: transparent;\n",
              "      border-right-color: var(--fill-color);\n",
              "      border-bottom-color: var(--fill-color);\n",
              "    }\n",
              "    90% {\n",
              "      border-color: transparent;\n",
              "      border-bottom-color: var(--fill-color);\n",
              "    }\n",
              "  }\n",
              "</style>\n",
              "\n",
              "  <script>\n",
              "    async function quickchart(key) {\n",
              "      const quickchartButtonEl =\n",
              "        document.querySelector('#' + key + ' button');\n",
              "      quickchartButtonEl.disabled = true;  // To prevent multiple clicks.\n",
              "      quickchartButtonEl.classList.add('colab-df-spinner');\n",
              "      try {\n",
              "        const charts = await google.colab.kernel.invokeFunction(\n",
              "            'suggestCharts', [key], {});\n",
              "      } catch (error) {\n",
              "        console.error('Error during call to suggestCharts:', error);\n",
              "      }\n",
              "      quickchartButtonEl.classList.remove('colab-df-spinner');\n",
              "      quickchartButtonEl.classList.add('colab-df-quickchart-complete');\n",
              "    }\n",
              "    (() => {\n",
              "      let quickchartButtonEl =\n",
              "        document.querySelector('#df-527ffe57-971f-4faf-bc3d-2ddd5755a977 button');\n",
              "      quickchartButtonEl.style.display =\n",
              "        google.colab.kernel.accessAllowed ? 'block' : 'none';\n",
              "    })();\n",
              "  </script>\n",
              "</div>\n",
              "\n",
              "    </div>\n",
              "  </div>\n"
            ],
            "application/vnd.google.colaboratory.intrinsic+json": {
              "type": "dataframe",
              "variable_name": "betas_by_pc1_eigenvector",
              "summary": "{\n  \"name\": \"betas_by_pc1_eigenvector\",\n  \"rows\": 28,\n  \"fields\": [\n    {\n      \"column\": \"Betas\",\n      \"properties\": {\n        \"dtype\": \"number\",\n        \"std\": 0.05663833792683469,\n        \"min\": 0.09787381334073375,\n        \"max\": 0.3266047928956953,\n        \"num_unique_values\": 28,\n        \"samples\": [\n          0.10609903512545765,\n          0.18552307503836207,\n          0.20521125028914736\n        ],\n        \"semantic_type\": \"\",\n        \"description\": \"\"\n      }\n    }\n  ]\n}"
            }
          },
          "metadata": {},
          "execution_count": 22
        }
      ],
      "source": [
        "betas_by_pc1_eigenvector = eigenVectors[0, :] ##### select the betas from the eigenVectors\n",
        "betas_by_pc1_eigenvector = pd.DataFrame(betas_by_pc1_eigenvector, columns=[\"Betas\"], index=df.columns)\n",
        "betas_by_pc1_eigenvector.head(50)"
      ]
    },
    {
      "cell_type": "markdown",
      "metadata": {
        "id": "dInvXf7msNgB"
      },
      "source": [
        "THEY ARE THE SAME"
      ]
    },
    {
      "cell_type": "markdown",
      "metadata": {
        "id": "7Tq4GETDsNgB"
      },
      "source": [
        "## 7. Using np.linealg.eig"
      ]
    },
    {
      "cell_type": "code",
      "execution_count": 23,
      "metadata": {
        "colab": {
          "base_uri": "https://localhost:8080/"
        },
        "id": "bbQ2i4jdsNgB",
        "outputId": "342be0dd-e5d7-47b7-8992-ce791fbc2c14"
      },
      "outputs": [
        {
          "output_type": "execute_result",
          "data": {
            "text/plain": [
              "array([[1.        , 0.98062392],\n",
              "       [0.98062392, 1.        ]])"
            ]
          },
          "metadata": {},
          "execution_count": 23
        }
      ],
      "source": [
        "# with np.linealg.eig\n",
        "df_mean = df.mean()\n",
        "df_ctr = df-df_mean\n",
        "cov_matrix_array = np.array(np.cov(df_ctr, rowvar=False))\n",
        "eigenValues, eigenVectors = np.linalg.eig(cov_matrix_array)\n",
        "idx = eigenValues.argsort()[::-1]\n",
        "eigenValues_ordered = eigenValues[idx]\n",
        "eigenVectors_ordered = eigenVectors[:,idx] #vertical eigenvectors ordered from left to right\n",
        "principal_component_projections  = np.matmul(eigenVectors_ordered.transpose(), df_ctr.transpose().values).transpose()\n",
        "pc1 = principal_component_projections[:,0]\n",
        "np.corrcoef(pc1, df_indu_index_ret.iloc[:,0].values)"
      ]
    }
  ],
  "metadata": {
    "kernelspec": {
      "display_name": "Python 3",
      "language": "python",
      "name": "python3"
    },
    "language_info": {
      "codemirror_mode": {
        "name": "ipython",
        "version": 3
      },
      "file_extension": ".py",
      "mimetype": "text/x-python",
      "name": "python",
      "nbconvert_exporter": "python",
      "pygments_lexer": "ipython3",
      "version": "3.7.9"
    },
    "colab": {
      "provenance": []
    }
  },
  "nbformat": 4,
  "nbformat_minor": 0
}